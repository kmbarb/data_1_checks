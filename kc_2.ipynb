{
  "nbformat": 4,
  "nbformat_minor": 0,
  "metadata": {
    "colab": {
      "provenance": [],
      "mount_file_id": "19ZJZxzVnXZKq_-1qSsgQcV5Xl3BkoFvp",
      "authorship_tag": "ABX9TyOFJFYU2yzYmdMrFRQWcz6P",
      "include_colab_link": true
    },
    "kernelspec": {
      "name": "python3",
      "display_name": "Python 3"
    },
    "language_info": {
      "name": "python"
    }
  },
  "cells": [
    {
      "cell_type": "markdown",
      "metadata": {
        "id": "view-in-github",
        "colab_type": "text"
      },
      "source": [
        "<a href=\"https://colab.research.google.com/github/kmbarb/data_1_checks/blob/main/kc_2.ipynb\" target=\"_parent\"><img src=\"https://colab.research.google.com/assets/colab-badge.svg\" alt=\"Open In Colab\"/></a>"
      ]
    },
    {
      "cell_type": "code",
      "execution_count": 32,
      "metadata": {
        "id": "AQo1C0v1r0NE"
      },
      "outputs": [],
      "source": [
        "import pandas as pd\n",
        "import os\n"
      ]
    },
    {
      "cell_type": "code",
      "source": [
        "df = pd.read_csv('/content/drive/MyDrive/Assets/AO_fictionlowcirc.csv')\n",
        "df.head()"
      ],
      "metadata": {
        "colab": {
          "base_uri": "https://localhost:8080/",
          "height": 392
        },
        "id": "3-Z7FLKPsp0_",
        "outputId": "103c87a1-ad82-4079-d599-483a72e7a00b"
      },
      "execution_count": 33,
      "outputs": [
        {
          "output_type": "execute_result",
          "data": {
            "text/plain": [
              "   Item_Barcode Call_Number  \\\n",
              "0  2.040910e+14     LT BLAC   \n",
              "1  2.040910e+14     LT GULL   \n",
              "2  2.040910e+14     LT MOSE   \n",
              "3  2.040910e+14     LT MULF   \n",
              "4  2.040910e+14     LT MYER   \n",
              "\n",
              "                                       Catalog_Title  \\\n",
              "0                                 One final breath /   \n",
              "1                              A gathering in Hope /   \n",
              "2                                     Time lottery /   \n",
              "3  The man from bar-20 : a Hopalong Casssidy novel /   \n",
              "4                                  Blood of heaven /   \n",
              "\n",
              "              Catalog_Author Created_Date Last_Activity  Total_Charges  \n",
              "0    BlacBurn, Lynn Huggins,    4/12/2021      1/1/1900              0  \n",
              "1            Gulley, Philip,    1/24/2017    10/16/2020             11  \n",
              "2              Moser, Nancy.    6/12/2003    10/10/2017             27  \n",
              "3  Mulford, Clarence Edward,    2/20/2014      7/7/2020             18  \n",
              "4               Myers, Bill,     7/1/1999      4/7/2017             19  "
            ],
            "text/html": [
              "\n",
              "  <div id=\"df-4c463a06-8c35-4dd5-8c92-37cd0cd6d5b1\">\n",
              "    <div class=\"colab-df-container\">\n",
              "      <div>\n",
              "<style scoped>\n",
              "    .dataframe tbody tr th:only-of-type {\n",
              "        vertical-align: middle;\n",
              "    }\n",
              "\n",
              "    .dataframe tbody tr th {\n",
              "        vertical-align: top;\n",
              "    }\n",
              "\n",
              "    .dataframe thead th {\n",
              "        text-align: right;\n",
              "    }\n",
              "</style>\n",
              "<table border=\"1\" class=\"dataframe\">\n",
              "  <thead>\n",
              "    <tr style=\"text-align: right;\">\n",
              "      <th></th>\n",
              "      <th>Item_Barcode</th>\n",
              "      <th>Call_Number</th>\n",
              "      <th>Catalog_Title</th>\n",
              "      <th>Catalog_Author</th>\n",
              "      <th>Created_Date</th>\n",
              "      <th>Last_Activity</th>\n",
              "      <th>Total_Charges</th>\n",
              "    </tr>\n",
              "  </thead>\n",
              "  <tbody>\n",
              "    <tr>\n",
              "      <th>0</th>\n",
              "      <td>2.040910e+14</td>\n",
              "      <td>LT BLAC</td>\n",
              "      <td>One final breath /</td>\n",
              "      <td>BlacBurn, Lynn Huggins,</td>\n",
              "      <td>4/12/2021</td>\n",
              "      <td>1/1/1900</td>\n",
              "      <td>0</td>\n",
              "    </tr>\n",
              "    <tr>\n",
              "      <th>1</th>\n",
              "      <td>2.040910e+14</td>\n",
              "      <td>LT GULL</td>\n",
              "      <td>A gathering in Hope /</td>\n",
              "      <td>Gulley, Philip,</td>\n",
              "      <td>1/24/2017</td>\n",
              "      <td>10/16/2020</td>\n",
              "      <td>11</td>\n",
              "    </tr>\n",
              "    <tr>\n",
              "      <th>2</th>\n",
              "      <td>2.040910e+14</td>\n",
              "      <td>LT MOSE</td>\n",
              "      <td>Time lottery /</td>\n",
              "      <td>Moser, Nancy.</td>\n",
              "      <td>6/12/2003</td>\n",
              "      <td>10/10/2017</td>\n",
              "      <td>27</td>\n",
              "    </tr>\n",
              "    <tr>\n",
              "      <th>3</th>\n",
              "      <td>2.040910e+14</td>\n",
              "      <td>LT MULF</td>\n",
              "      <td>The man from bar-20 : a Hopalong Casssidy novel /</td>\n",
              "      <td>Mulford, Clarence Edward,</td>\n",
              "      <td>2/20/2014</td>\n",
              "      <td>7/7/2020</td>\n",
              "      <td>18</td>\n",
              "    </tr>\n",
              "    <tr>\n",
              "      <th>4</th>\n",
              "      <td>2.040910e+14</td>\n",
              "      <td>LT MYER</td>\n",
              "      <td>Blood of heaven /</td>\n",
              "      <td>Myers, Bill,</td>\n",
              "      <td>7/1/1999</td>\n",
              "      <td>4/7/2017</td>\n",
              "      <td>19</td>\n",
              "    </tr>\n",
              "  </tbody>\n",
              "</table>\n",
              "</div>\n",
              "      <button class=\"colab-df-convert\" onclick=\"convertToInteractive('df-4c463a06-8c35-4dd5-8c92-37cd0cd6d5b1')\"\n",
              "              title=\"Convert this dataframe to an interactive table.\"\n",
              "              style=\"display:none;\">\n",
              "        \n",
              "  <svg xmlns=\"http://www.w3.org/2000/svg\" height=\"24px\"viewBox=\"0 0 24 24\"\n",
              "       width=\"24px\">\n",
              "    <path d=\"M0 0h24v24H0V0z\" fill=\"none\"/>\n",
              "    <path d=\"M18.56 5.44l.94 2.06.94-2.06 2.06-.94-2.06-.94-.94-2.06-.94 2.06-2.06.94zm-11 1L8.5 8.5l.94-2.06 2.06-.94-2.06-.94L8.5 2.5l-.94 2.06-2.06.94zm10 10l.94 2.06.94-2.06 2.06-.94-2.06-.94-.94-2.06-.94 2.06-2.06.94z\"/><path d=\"M17.41 7.96l-1.37-1.37c-.4-.4-.92-.59-1.43-.59-.52 0-1.04.2-1.43.59L10.3 9.45l-7.72 7.72c-.78.78-.78 2.05 0 2.83L4 21.41c.39.39.9.59 1.41.59.51 0 1.02-.2 1.41-.59l7.78-7.78 2.81-2.81c.8-.78.8-2.07 0-2.86zM5.41 20L4 18.59l7.72-7.72 1.47 1.35L5.41 20z\"/>\n",
              "  </svg>\n",
              "      </button>\n",
              "      \n",
              "  <style>\n",
              "    .colab-df-container {\n",
              "      display:flex;\n",
              "      flex-wrap:wrap;\n",
              "      gap: 12px;\n",
              "    }\n",
              "\n",
              "    .colab-df-convert {\n",
              "      background-color: #E8F0FE;\n",
              "      border: none;\n",
              "      border-radius: 50%;\n",
              "      cursor: pointer;\n",
              "      display: none;\n",
              "      fill: #1967D2;\n",
              "      height: 32px;\n",
              "      padding: 0 0 0 0;\n",
              "      width: 32px;\n",
              "    }\n",
              "\n",
              "    .colab-df-convert:hover {\n",
              "      background-color: #E2EBFA;\n",
              "      box-shadow: 0px 1px 2px rgba(60, 64, 67, 0.3), 0px 1px 3px 1px rgba(60, 64, 67, 0.15);\n",
              "      fill: #174EA6;\n",
              "    }\n",
              "\n",
              "    [theme=dark] .colab-df-convert {\n",
              "      background-color: #3B4455;\n",
              "      fill: #D2E3FC;\n",
              "    }\n",
              "\n",
              "    [theme=dark] .colab-df-convert:hover {\n",
              "      background-color: #434B5C;\n",
              "      box-shadow: 0px 1px 3px 1px rgba(0, 0, 0, 0.15);\n",
              "      filter: drop-shadow(0px 1px 2px rgba(0, 0, 0, 0.3));\n",
              "      fill: #FFFFFF;\n",
              "    }\n",
              "  </style>\n",
              "\n",
              "      <script>\n",
              "        const buttonEl =\n",
              "          document.querySelector('#df-4c463a06-8c35-4dd5-8c92-37cd0cd6d5b1 button.colab-df-convert');\n",
              "        buttonEl.style.display =\n",
              "          google.colab.kernel.accessAllowed ? 'block' : 'none';\n",
              "\n",
              "        async function convertToInteractive(key) {\n",
              "          const element = document.querySelector('#df-4c463a06-8c35-4dd5-8c92-37cd0cd6d5b1');\n",
              "          const dataTable =\n",
              "            await google.colab.kernel.invokeFunction('convertToInteractive',\n",
              "                                                     [key], {});\n",
              "          if (!dataTable) return;\n",
              "\n",
              "          const docLinkHtml = 'Like what you see? Visit the ' +\n",
              "            '<a target=\"_blank\" href=https://colab.research.google.com/notebooks/data_table.ipynb>data table notebook</a>'\n",
              "            + ' to learn more about interactive tables.';\n",
              "          element.innerHTML = '';\n",
              "          dataTable['output_type'] = 'display_data';\n",
              "          await google.colab.output.renderOutput(dataTable, element);\n",
              "          const docLink = document.createElement('div');\n",
              "          docLink.innerHTML = docLinkHtml;\n",
              "          element.appendChild(docLink);\n",
              "        }\n",
              "      </script>\n",
              "    </div>\n",
              "  </div>\n",
              "  "
            ]
          },
          "metadata": {},
          "execution_count": 33
        }
      ]
    },
    {
      "cell_type": "code",
      "source": [
        "import matplotlib.pyplot as plt\n",
        "from matplotlib import rcParams\n",
        "rcParams.update({'figure.autolayout': True,\n",
        "                 'axes.titlepad':20})\n",
        "\n",
        "fig = plt.figure()\n",
        "subplot = fig.add_subplot(1, 1, 1)\n",
        "Last_Activity.plot(ax=subplot, rot=45)\n",
        "subplot.set_xlabel(\"Last Activity Date\")\n",
        "subplot.set_ylabel (\"Number of Items\")\n",
        "subplot.set_title(\"Items to be Weeded from Outreach Collection\")\n",
        "fig.show()\n"
      ],
      "metadata": {
        "colab": {
          "base_uri": "https://localhost:8080/",
          "height": 297
        },
        "id": "2eIyV0aetFyN",
        "outputId": "b041e223-82b7-4b1c-ddc9-c6dc341efabf"
      },
      "execution_count": 34,
      "outputs": [
        {
          "output_type": "display_data",
          "data": {
            "text/plain": [
              "<Figure size 432x288 with 1 Axes>"
            ],
            "image/png": "[encoded data removed]"
          },
          "metadata": {
            "needs_background": "light"
          }
        }
      ]
    }
  ]
}